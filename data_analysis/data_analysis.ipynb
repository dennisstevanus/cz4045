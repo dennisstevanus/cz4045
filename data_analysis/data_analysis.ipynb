{
 "cells": [
  {
   "cell_type": "code",
   "execution_count": 1,
   "metadata": {},
   "outputs": [],
   "source": [
    "import pandas as pd\n",
    "import requests\n",
    "import numpy as np\n",
    "import json\n",
    "import codecs\n",
    "import matplotlib.pyplot as plt"
   ]
  },
  {
   "cell_type": "code",
   "execution_count": 2,
   "metadata": {},
   "outputs": [],
   "source": [
    "token = []\n",
    "stemmed_token = []\n",
    "segmented_sentence = []\n",
    "\n",
    "for x in range (1,21):\n",
    "    file_name = '../results/Python StackOverflow/' + str(x) + '.json'\n",
    "    with open(file_name, 'r', encoding='utf-16') as json_file:\n",
    "        data = json.load(json_file)\n",
    "        for y in data['token']:\n",
    "            token.append(y)\n",
    "        for z in data['stemmed_token']:\n",
    "            stemmed_token.append(z)\n",
    "        for a in data['segmented_sentence']:\n",
    "            segmented_sentence.append(a)\n",
    "\n",
    "tokens = list(set(token))\n",
    "stemmed_tokens = list(set(stemmed_token))\n",
    "            \n",
    "df_token = pd.DataFrame(\n",
    "    {\n",
    "        \"token\": tokens \n",
    "    }\n",
    ")\n",
    "\n",
    "df_stemmed_token = pd.DataFrame(\n",
    "    {\n",
    "        \"stemmed_token\": stemmed_tokens\n",
    "    }\n",
    ")\n"
   ]
  },
  {
   "cell_type": "code",
   "execution_count": 3,
   "metadata": {},
   "outputs": [],
   "source": [
    "token_dict = dict.fromkeys(tokens, 0)\n",
    "stemmed_token_dict = dict.fromkeys(stemmed_tokens, 0)\n",
    "\n",
    "for sentence in segmented_sentence:\n",
    "    for token in tokens:\n",
    "        counted_token = sentence.count(token)\n",
    "        token_dict[token]+=counted_token\n",
    "    for stemmed_token in stemmed_tokens:\n",
    "        counted_stemmed_token = sentence.count(stemmed_token)\n",
    "        stemmed_token_dict[stemmed_token] += counted_stemmed_token\n",
    "\n",
    "df_token['count_token'] = df_token['token'].map(token_dict)\n",
    "\n",
    "df_stemmed_token['count_stemmed_token'] = df_stemmed_token['stemmed_token'].map(stemmed_token_dict)"
   ]
  },
  {
   "cell_type": "code",
   "execution_count": 4,
   "metadata": {},
   "outputs": [],
   "source": [
    "token_sorted_values = df_token.sort_values(by=['count_token'], ascending=False)\n",
    "hundred_token_sorted_values = token_sorted_values['token'].head(100).tolist()\n",
    "# token_sorted_values.head(100)"
   ]
  },
  {
   "cell_type": "code",
   "execution_count": 5,
   "metadata": {},
   "outputs": [],
   "source": [
    "stemmed_token_sorted_values = df_stemmed_token.sort_values(by=['count_stemmed_token'], ascending=False)\n",
    "hundred_stemmed_token_sorted_values = stemmed_token_sorted_values['stemmed_token'].head(100).tolist()\n",
    "# stemmed_token_sorted_values.head(100)"
   ]
  },
  {
   "cell_type": "code",
   "execution_count": 6,
   "metadata": {},
   "outputs": [
    {
     "name": "stdout",
     "output_type": "stream",
     "text": [
      "Stemmed Token of Top 100 that is part of Token of Top 100\n",
      "0.9\n"
     ]
    }
   ],
   "source": [
    "#Percentage existence of tokens also in stemmed tokens\n",
    "set_token = set(hundred_token_sorted_values)\n",
    "set_stemmed_token = set(hundred_stemmed_token_sorted_values)\n",
    "intersection_of_token = set_token.intersection(set_stemmed_token)\n",
    "print(\"Stemmed Token of Top 100 that is part of Token of Top 100\")\n",
    "print(len(intersection_of_token)/len(hundred_token_sorted_values))"
   ]
  },
  {
   "cell_type": "code",
   "execution_count": 7,
   "metadata": {},
   "outputs": [
    {
     "name": "stdout",
     "output_type": "stream",
     "text": [
      "Reduced_tokens divided by Set of tokens\n"
     ]
    },
    {
     "data": {
      "text/plain": [
       "0.6400118906064209"
      ]
     },
     "execution_count": 7,
     "metadata": {},
     "output_type": "execute_result"
    }
   ],
   "source": [
    "set_tokens = set(tokens)\n",
    "set_stemmed_tokens = set(stemmed_tokens)\n",
    "reduced_tokens = set_tokens - set_stemmed_tokens\n",
    "print(\"Reduced_tokens divided by Set of tokens\")\n",
    "len(reduced_tokens)/len(set_tokens)"
   ]
  },
  {
   "cell_type": "code",
   "execution_count": 8,
   "metadata": {},
   "outputs": [
    {
     "name": "stdout",
     "output_type": "stream",
     "text": [
      "//pandas.pydata.org/pandas-docs/version/0.17.0/indexing.html\n",
      "//gist.github.com/nikitakit/6ef3b72be67b86cb7868\n",
      "tf.global_variables_initializer\n",
      "template_folder='web/templates\n",
      "'./tensorflow/python/tools\n",
      "//www.tensorflow.org/versions/r2.0/api_docs/python/tf/keras/models/save_model\n",
      "//www.tensorflow.org/versions/r2.0/api_docs/python/tf/keras/models/load_model\n",
      "//www.python.org/dev/peps/pep-0484/\n",
      "DynamicFieldsModelSerializer\n",
      "enctype=multipart/form-data\n",
      "//medium.com/octopus-wealth/returning-json-from-flask-cf4ce6fe9aeb\n",
      "HyperlinkedModelSerializer\n",
      "graph.get_operation_by_name\n",
      "//docs.djangoproject.com/en/3.0/topics/db/models/\n",
      "tf.train.import_meta_graph\n",
      "//www.tensorflow.org/programmers_guide/meta_graph\n",
      "//docs.djangoproject.com/en/3.0/topics/forms/modelforms/\n",
      "//bytes.com/topic/python/answers/464012-objects-list-index\n",
      "//github.com/guillaume-chevalier/LSTM-Human-Activity-Recognition\n",
      "tf.saved_model.loader.load\n",
      "//keras.io/layers/normalization/\n",
      "//www.tensorflow.org/guide/saved_model\n",
      "//example.com/static/foo.bar\n",
      "//flask.pocoo.org/docs/quickstart/\n",
      "mimetype='application/json\n",
      "//mail.python.org/pipermail/python-ideas/2014-August/028618.html\n",
      "//github.com/fchollet/keras/blob/master/examples/kaggle_otto_nn.py\n",
      "//scikit-learn.org/stable/modules/generated/sklearn.preprocessing.OneHotEncoder.html\n",
      "//www.python.org/dev/peps/pep-0212/\n",
      "tf.keras.models.save_model\n",
      "application/x-www-form-urlencoded\n",
      "tf.train.latest_checkpoint\n",
      "//github.com/pallets/flask/pull/3111\n",
      "tf.train.export_meta_graph\n",
      "//blog.miguelgrinberg.com/post/the-flask-mega-tutorial-part-i-hello-world\n",
      "//www.tensorflow.org/guide/keras/save_and_serialize\n",
      "//github.com/encode/django-rest-framework/issues/1563\n",
      "pandas.DataFrame.select_dtypes\n",
      "tf.saved_model.simple_save\n",
      "tf.train.MonitoredTrainingSession\n",
      "softmax_cross_entropy_with_logits\n"
     ]
    }
   ],
   "source": [
    "length_token = 0\n",
    "length_of_token = []\n",
    "for x in tokens:\n",
    "    if (len(x)>length_token):\n",
    "        length_token = len(x)\n",
    "    \n",
    "for x in range(1, length_token+1):\n",
    "    length_of_token.append(x)\n",
    "    \n",
    "df_length_of_token = pd.DataFrame(\n",
    "    {\n",
    "        \"length\": length_of_token\n",
    "    })\n",
    "\n",
    "length_of_token_dict = dict.fromkeys(length_of_token, 0)\n",
    "\n",
    "for x in tokens:\n",
    "    if(len(x)) > 25:\n",
    "        print(x)\n",
    "    length_of_token_dict[len(x)] += 1\n",
    "\n",
    "df_length_of_token['count'] = df_length_of_token['length'].map(length_of_token_dict)"
   ]
  },
  {
   "cell_type": "code",
   "execution_count": 9,
   "metadata": {},
   "outputs": [
    {
     "name": "stdout",
     "output_type": "stream",
     "text": [
      "Row that has highest count\n"
     ]
    },
    {
     "data": {
      "text/plain": [
       "6"
      ]
     },
     "execution_count": 9,
     "metadata": {},
     "output_type": "execute_result"
    }
   ],
   "source": [
    "print(\"Row that has highest count\")\n",
    "df_length_of_token['count'].argmax()\n"
   ]
  },
  {
   "cell_type": "code",
   "execution_count": 10,
   "metadata": {},
   "outputs": [
    {
     "name": "stdout",
     "output_type": "stream",
     "text": [
      "Row that has highest count\n"
     ]
    },
    {
     "data": {
      "text/html": [
       "<div>\n",
       "<style scoped>\n",
       "    .dataframe tbody tr th:only-of-type {\n",
       "        vertical-align: middle;\n",
       "    }\n",
       "\n",
       "    .dataframe tbody tr th {\n",
       "        vertical-align: top;\n",
       "    }\n",
       "\n",
       "    .dataframe thead th {\n",
       "        text-align: right;\n",
       "    }\n",
       "</style>\n",
       "<table border=\"1\" class=\"dataframe\">\n",
       "  <thead>\n",
       "    <tr style=\"text-align: right;\">\n",
       "      <th></th>\n",
       "      <th>length</th>\n",
       "      <th>count</th>\n",
       "    </tr>\n",
       "  </thead>\n",
       "  <tbody>\n",
       "    <tr>\n",
       "      <th>6</th>\n",
       "      <td>7</td>\n",
       "      <td>446</td>\n",
       "    </tr>\n",
       "  </tbody>\n",
       "</table>\n",
       "</div>"
      ],
      "text/plain": [
       "   length  count\n",
       "6       7    446"
      ]
     },
     "execution_count": 10,
     "metadata": {},
     "output_type": "execute_result"
    }
   ],
   "source": [
    "print(\"Row that has highest count\")\n",
    "df_length_of_token.loc[[6]]"
   ]
  },
  {
   "cell_type": "code",
   "execution_count": 11,
   "metadata": {},
   "outputs": [
    {
     "data": {
      "text/html": [
       "<div>\n",
       "<style scoped>\n",
       "    .dataframe tbody tr th:only-of-type {\n",
       "        vertical-align: middle;\n",
       "    }\n",
       "\n",
       "    .dataframe tbody tr th {\n",
       "        vertical-align: top;\n",
       "    }\n",
       "\n",
       "    .dataframe thead th {\n",
       "        text-align: right;\n",
       "    }\n",
       "</style>\n",
       "<table border=\"1\" class=\"dataframe\">\n",
       "  <thead>\n",
       "    <tr style=\"text-align: right;\">\n",
       "      <th></th>\n",
       "      <th>length</th>\n",
       "      <th>count</th>\n",
       "    </tr>\n",
       "  </thead>\n",
       "  <tbody>\n",
       "    <tr>\n",
       "      <th>79</th>\n",
       "      <td>80</td>\n",
       "      <td>0</td>\n",
       "    </tr>\n",
       "    <tr>\n",
       "      <th>80</th>\n",
       "      <td>81</td>\n",
       "      <td>0</td>\n",
       "    </tr>\n",
       "    <tr>\n",
       "      <th>81</th>\n",
       "      <td>82</td>\n",
       "      <td>0</td>\n",
       "    </tr>\n",
       "    <tr>\n",
       "      <th>82</th>\n",
       "      <td>83</td>\n",
       "      <td>0</td>\n",
       "    </tr>\n",
       "    <tr>\n",
       "      <th>83</th>\n",
       "      <td>84</td>\n",
       "      <td>1</td>\n",
       "    </tr>\n",
       "  </tbody>\n",
       "</table>\n",
       "</div>"
      ],
      "text/plain": [
       "    length  count\n",
       "79      80      0\n",
       "80      81      0\n",
       "81      82      0\n",
       "82      83      0\n",
       "83      84      1"
      ]
     },
     "execution_count": 11,
     "metadata": {},
     "output_type": "execute_result"
    }
   ],
   "source": [
    "df_length_of_token.tail()"
   ]
  },
  {
   "cell_type": "code",
   "execution_count": 12,
   "metadata": {},
   "outputs": [],
   "source": [
    "length_stemmed_token = 0\n",
    "length_of_stemmed_token = []\n",
    "for x in stemmed_tokens:\n",
    "    if (len(x)>length_stemmed_token):\n",
    "        length_stemmed_token = len(x)\n",
    "    \n",
    "for y in range(1, length_stemmed_token+1):\n",
    "    length_of_stemmed_token.append(y)\n",
    "    \n",
    "df_length_of_stemmed_token = pd.DataFrame(\n",
    "    {\n",
    "        \"length\": length_of_stemmed_token\n",
    "    })\n",
    "\n",
    "length_of_stemmed_token_dict = dict.fromkeys(length_of_stemmed_token, 0)\n",
    "\n",
    "for z in stemmed_tokens:\n",
    "    length_of_stemmed_token_dict[len(z)] += 1\n",
    "\n",
    "df_length_of_stemmed_token['count'] = df_length_of_stemmed_token['length'].map(length_of_stemmed_token_dict)"
   ]
  },
  {
   "cell_type": "code",
   "execution_count": 13,
   "metadata": {},
   "outputs": [
    {
     "name": "stdout",
     "output_type": "stream",
     "text": [
      "Row that has highest count\n"
     ]
    },
    {
     "data": {
      "text/plain": [
       "5"
      ]
     },
     "execution_count": 13,
     "metadata": {},
     "output_type": "execute_result"
    }
   ],
   "source": [
    "print(\"Row that has highest count\")\n",
    "df_length_of_stemmed_token['count'].argmax()\n"
   ]
  },
  {
   "cell_type": "code",
   "execution_count": 14,
   "metadata": {},
   "outputs": [
    {
     "name": "stdout",
     "output_type": "stream",
     "text": [
      "Row that has highest count\n"
     ]
    },
    {
     "data": {
      "text/html": [
       "<div>\n",
       "<style scoped>\n",
       "    .dataframe tbody tr th:only-of-type {\n",
       "        vertical-align: middle;\n",
       "    }\n",
       "\n",
       "    .dataframe tbody tr th {\n",
       "        vertical-align: top;\n",
       "    }\n",
       "\n",
       "    .dataframe thead th {\n",
       "        text-align: right;\n",
       "    }\n",
       "</style>\n",
       "<table border=\"1\" class=\"dataframe\">\n",
       "  <thead>\n",
       "    <tr style=\"text-align: right;\">\n",
       "      <th></th>\n",
       "      <th>length</th>\n",
       "      <th>count</th>\n",
       "    </tr>\n",
       "  </thead>\n",
       "  <tbody>\n",
       "    <tr>\n",
       "      <th>3</th>\n",
       "      <td>4</td>\n",
       "      <td>357</td>\n",
       "    </tr>\n",
       "  </tbody>\n",
       "</table>\n",
       "</div>"
      ],
      "text/plain": [
       "   length  count\n",
       "3       4    357"
      ]
     },
     "execution_count": 14,
     "metadata": {},
     "output_type": "execute_result"
    }
   ],
   "source": [
    "print(\"Row that has highest count\")\n",
    "df_length_of_stemmed_token.loc[[3]]"
   ]
  },
  {
   "cell_type": "code",
   "execution_count": 15,
   "metadata": {},
   "outputs": [
    {
     "data": {
      "image/png": "[encoded data removed]",
      "text/plain": [
       "<Figure size 432x288 with 1 Axes>"
      ]
     },
     "metadata": {
      "needs_background": "light"
     },
     "output_type": "display_data"
    }
   ],
   "source": [
    "plt.bar(x=df_length_of_token['length'], height=df_length_of_token['count'], label='before', alpha=0.5)\n",
    "plt.bar(x=df_length_of_stemmed_token['length'], height=df_length_of_stemmed_token['count'], label='after', alpha=0.5)\n",
    "plt.legend(loc='upper right')\n",
    "plt.show()"
   ]
  },
  {
   "cell_type": "code",
   "execution_count": 16,
   "metadata": {},
   "outputs": [
    {
     "name": "stdout",
     "output_type": "stream",
     "text": [
      "[1, 2, 3, 4, 5, 6, 7, 8, 9, 10, 11, 12, 13, 14, 15, 16, 17, 18, 19, 20, 21, 22, 23, 24, 25, 26, 27, 28, 29, 30, 31, 32, 33, 34, 35, 36, 37, 38, 39, 40, 41, 42, 43, 44, 45, 46, 47, 48, 49, 50, 51, 52, 53, 54, 55, 56, 57, 58, 59, 60, 61, 62, 63, 64, 65, 66, 67, 68, 69, 70, 71, 72, 73, 74, 75, 76, 77, 78, 79, 80, 81, 82, 83, 84, 85, 86, 87, 88, 89, 90, 91, 92, 93, 94, 95, 96, 97, 98, 99, 100, 101, 102, 103, 104, 105, 106, 107, 108, 109, 110, 111, 112, 113, 114, 115, 116, 117, 118, 119, 120, 121, 122, 123, 124, 125, 126, 127, 128, 129, 130, 131, 132, 133, 134, 135, 136, 137, 138, 139, 140, 141, 142, 143, 144, 145, 146, 147, 148, 149, 150, 151, 152, 153, 154, 155, 156, 157, 158, 159, 160, 161, 162, 163, 164, 165, 166, 167, 168, 169, 170, 171, 172, 173, 174, 175, 176, 177, 178]\n",
      "X axis: Length of a sentence in tokens. Y axis: Number of sentences that has this number of tokens\n",
      "           length       count\n",
      "count  178.000000  178.000000\n",
      "mean    89.500000    5.483146\n",
      "std     51.528309    7.257355\n",
      "min      1.000000    0.000000\n",
      "25%     45.250000    0.000000\n",
      "50%     89.500000    2.000000\n",
      "75%    133.750000    9.750000\n",
      "max    178.000000   36.000000\n"
     ]
    },
    {
     "data": {
      "text/plain": [
       "<BarContainer object of 178 artists>"
      ]
     },
     "execution_count": 16,
     "metadata": {},
     "output_type": "execute_result"
    },
    {
     "data": {
      "image/png": "[encoded data removed]",
      "text/plain": [
       "<Figure size 432x288 with 1 Axes>"
      ]
     },
     "metadata": {
      "needs_background": "light"
     },
     "output_type": "display_data"
    }
   ],
   "source": [
    "length_sentence_per_token = 0\n",
    "length_of_sentence_per_token = []\n",
    "\n",
    "for x in segmented_sentence:\n",
    "    # Length per sentence using token\n",
    "    length_per_sentence = 0\n",
    "    for y in tokens:\n",
    "        if y in x:\n",
    "            length_per_sentence += 1\n",
    "    if (length_per_sentence>length_sentence_per_token):\n",
    "        length_sentence_per_token = length_per_sentence\n",
    "\n",
    "for z in range(1, length_sentence_per_token+1):\n",
    "    length_of_sentence_per_token.append(z)\n",
    "    \n",
    "print(length_of_sentence_per_token)\n",
    "    \n",
    "df_length_of_sentence = pd.DataFrame(\n",
    "    {\n",
    "        \"length\": length_of_sentence_per_token\n",
    "    })\n",
    "\n",
    "length_of_sentence_per_token_dict = dict.fromkeys(length_of_sentence_per_token, 0)\n",
    "\n",
    "for s in segmented_sentence:\n",
    "    length_per_sentence = 0\n",
    "    for t in tokens:\n",
    "        if t in s:\n",
    "            length_per_sentence += 1\n",
    "    length_of_sentence_per_token_dict[length_per_sentence] += 1\n",
    "\n",
    "df_length_of_sentence['count'] = df_length_of_sentence['length'].map(length_of_sentence_per_token_dict)\n",
    "print(\"X axis: Length of a sentence in tokens. Y axis: Number of sentences that has this number of tokens\")\n",
    "print(df_length_of_sentence.describe())\n",
    "plt.bar(df_length_of_sentence['length'], df_length_of_sentence['count'])"
   ]
  },
  {
   "cell_type": "code",
   "execution_count": 17,
   "metadata": {},
   "outputs": [
    {
     "name": "stdout",
     "output_type": "stream",
     "text": [
      "Row that has highest count\n"
     ]
    },
    {
     "data": {
      "text/plain": [
       "35"
      ]
     },
     "execution_count": 17,
     "metadata": {},
     "output_type": "execute_result"
    }
   ],
   "source": [
    "print(\"Row that has highest count\")\n",
    "df_length_of_sentence['count'].argmax()"
   ]
  },
  {
   "cell_type": "code",
   "execution_count": 18,
   "metadata": {},
   "outputs": [
    {
     "name": "stdout",
     "output_type": "stream",
     "text": [
      "Highest count with the length of the tokens inside in the sentence\n"
     ]
    },
    {
     "data": {
      "text/html": [
       "<div>\n",
       "<style scoped>\n",
       "    .dataframe tbody tr th:only-of-type {\n",
       "        vertical-align: middle;\n",
       "    }\n",
       "\n",
       "    .dataframe tbody tr th {\n",
       "        vertical-align: top;\n",
       "    }\n",
       "\n",
       "    .dataframe thead th {\n",
       "        text-align: right;\n",
       "    }\n",
       "</style>\n",
       "<table border=\"1\" class=\"dataframe\">\n",
       "  <thead>\n",
       "    <tr style=\"text-align: right;\">\n",
       "      <th></th>\n",
       "      <th>length</th>\n",
       "      <th>count</th>\n",
       "    </tr>\n",
       "  </thead>\n",
       "  <tbody>\n",
       "    <tr>\n",
       "      <th>35</th>\n",
       "      <td>36</td>\n",
       "      <td>36</td>\n",
       "    </tr>\n",
       "  </tbody>\n",
       "</table>\n",
       "</div>"
      ],
      "text/plain": [
       "    length  count\n",
       "35      36     36"
      ]
     },
     "execution_count": 18,
     "metadata": {},
     "output_type": "execute_result"
    }
   ],
   "source": [
    "print(\"Highest count with the length of the tokens inside in the sentence\")\n",
    "df_length_of_sentence.loc[[35]]"
   ]
  },
  {
   "cell_type": "code",
   "execution_count": null,
   "metadata": {},
   "outputs": [],
   "source": []
  }
 ],
 "metadata": {
  "kernelspec": {
   "display_name": "Python 3",
   "language": "python",
   "name": "python3"
  },
  "language_info": {
   "codemirror_mode": {
    "name": "ipython",
    "version": 3
   },
   "file_extension": ".py",
   "mimetype": "text/x-python",
   "name": "python",
   "nbconvert_exporter": "python",
   "pygments_lexer": "ipython3",
   "version": "3.7.9"
  }
 },
 "nbformat": 4,
 "nbformat_minor": 4
}
