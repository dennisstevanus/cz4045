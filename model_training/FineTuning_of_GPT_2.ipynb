{
  "nbformat": 4,
  "nbformat_minor": 0,
  "metadata": {
    "colab": {
      "name": "Training of GPT-2",
      "provenance": [],
      "collapsed_sections": [],
      "toc_visible": true
    },
    "kernelspec": {
      "name": "python3",
      "display_name": "Python 3"
    },
    "accelerator": "GPU"
  },
  "cells": [
    {
      "cell_type": "markdown",
      "metadata": {
        "id": "H7LoMj4GA4n_"
      },
      "source": [
        "#  Train a GPT-2 Text-Generating Model w/ GPU For Free \n",
        "\n",
        "by [Max Woolf](http://minimaxir.com)\n",
        "\n",
        "*Last updated: November 10th, 2019*\n",
        "\n",
        "Retrain an advanced text generating neural network on any text dataset **for free on a GPU using Collaboratory** using `gpt-2-simple`!\n",
        "\n",
        "For more about `gpt-2-simple`, you can visit [this GitHub repository](https://github.com/minimaxir/gpt-2-simple). You can also read my [blog post](https://minimaxir.com/2019/09/howto-gpt2/) for more information how to use this notebook!\n",
        "\n",
        "\n",
        "To get started:\n",
        "\n",
        "1. Copy this notebook to your Google Drive to keep it and save your changes. (File -> Save a Copy in Drive)\n",
        "2. Make sure you're running the notebook in Google Chrome.\n",
        "3. Run the cells below:\n"
      ]
    },
    {
      "cell_type": "code",
      "metadata": {
        "id": "KBkpRgBCBS2_",
        "outputId": "f8fffae1-1e4f-4d4d-8303-06f87c38cf79",
        "colab": {
          "base_uri": "https://localhost:8080/"
        }
      },
      "source": [
        "%tensorflow_version 1.x\n",
        "!pip install -q gpt-2-simple\n",
        "import gpt_2_simple as gpt2\n",
        "from datetime import datetime\n",
        "from google.colab import files"
      ],
      "execution_count": null,
      "outputs": [
        {
          "output_type": "stream",
          "text": [
            "TensorFlow 1.x selected.\n",
            "  Building wheel for gpt-2-simple (setup.py) ... \u001b[?25l\u001b[?25hdone\n",
            "WARNING:tensorflow:\n",
            "The TensorFlow contrib module will not be included in TensorFlow 2.0.\n",
            "For more information, please see:\n",
            "  * https://github.com/tensorflow/community/blob/master/rfcs/20180907-contrib-sunset.md\n",
            "  * https://github.com/tensorflow/addons\n",
            "  * https://github.com/tensorflow/io (for I/O related ops)\n",
            "If you depend on functionality not listed there, please file an issue.\n",
            "\n"
          ],
          "name": "stdout"
        }
      ]
    },
    {
      "cell_type": "markdown",
      "metadata": {
        "id": "0wXB05bPDYxS"
      },
      "source": [
        "## Downloading GPT-2\n",
        "\n",
        "If you're retraining a model on new text, you need to download the GPT-2 model first. \n",
        "\n",
        "There are three released sizes of GPT-2:\n",
        "\n",
        "* `124M` (default): the \"small\" model, 500MB on disk.\n",
        "* `355M`: the \"medium\" model, 1.5GB on disk.\n",
        "* `774M`: the \"large\" model, cannot currently be finetuned with Colaboratory but can be used to generate text from the pretrained model (see later in Notebook)\n",
        "* `1558M`: the \"extra large\", true model. Will not work if a K80 GPU is attached to the notebook. (like `774M`, it cannot be finetuned).\n",
        "\n",
        "Larger models have more knowledge, but take longer to finetune and longer to generate text. You can specify which base model to use by changing `model_name` in the cells below.\n",
        "\n",
        "The next cell downloads it from Google Cloud Storage and saves it in the Colaboratory VM at `/models/<model_name>`.\n",
        "\n",
        "This model isn't permanently saved in the Colaboratory VM; you'll have to redownload it if you want to retrain it at a later time."
      ]
    },
    {
      "cell_type": "code",
      "metadata": {
        "id": "P8wSlgXoDPCR",
        "outputId": "132a531d-0205-443f-bdea-5c01c84c4a74",
        "colab": {
          "base_uri": "https://localhost:8080/"
        }
      },
      "source": [
        "gpt2.download_gpt2(model_name=\"124M\")"
      ],
      "execution_count": null,
      "outputs": [
        {
          "output_type": "stream",
          "text": [
            "Fetching checkpoint: 1.05Mit [00:00, 524Mit/s]                                                      \n",
            "Fetching encoder.json: 1.05Mit [00:00, 111Mit/s]                                                    \n",
            "Fetching hparams.json: 1.05Mit [00:00, 406Mit/s]                                                    \n",
            "Fetching model.ckpt.data-00000-of-00001: 498Mit [00:03, 125Mit/s]                                   \n",
            "Fetching model.ckpt.index: 1.05Mit [00:00, 164Mit/s]                                                \n",
            "Fetching model.ckpt.meta: 1.05Mit [00:00, 52.8Mit/s]                                                \n",
            "Fetching vocab.bpe: 1.05Mit [00:00, 124Mit/s]                                                       \n"
          ],
          "name": "stderr"
        }
      ]
    },
    {
      "cell_type": "markdown",
      "metadata": {
        "id": "N8KXuKWzQSsN"
      },
      "source": [
        "## Mounting Google Drive\n",
        "\n",
        "The best way to get input text to-be-trained into the Colaboratory VM, and to get the trained model *out* of Colaboratory, is to route it through Google Drive *first*.\n",
        "\n",
        "Running this cell (which will only work in Colaboratory) will mount your personal Google Drive in the VM, which later cells can use to get data in/out. (it will ask for an auth code; that auth is not saved anywhere)"
      ]
    },
    {
      "cell_type": "code",
      "metadata": {
        "id": "puq4iC6vUAHc",
        "outputId": "c0a1bbce-f158-416b-ed66-ab885a97e140",
        "colab": {
          "base_uri": "https://localhost:8080/"
        }
      },
      "source": [
        "gpt2.mount_gdrive()"
      ],
      "execution_count": null,
      "outputs": [
        {
          "output_type": "stream",
          "text": [
            "Mounted at /content/drive\n"
          ],
          "name": "stdout"
        }
      ]
    },
    {
      "cell_type": "markdown",
      "metadata": {
        "id": "BT__brhBCvJu"
      },
      "source": [
        "## Uploading a Text File to be Trained to Colaboratory\n",
        "\n",
        "In the Colaboratory Notebook sidebar on the left of the screen, select *Files*. From there you can upload files:\n",
        "\n",
        "![alt text](https://i.imgur.com/TGcZT4h.png)\n",
        "\n",
        "Upload **any smaller text file**  (<10 MB) and update the file name in the cell below, then run the cell."
      ]
    },
    {
      "cell_type": "code",
      "metadata": {
        "id": "6OFnPCLADfll"
      },
      "source": [
        "file_name = \"Trustpilot Netflix Datasets.csv\""
      ],
      "execution_count": null,
      "outputs": []
    },
    {
      "cell_type": "markdown",
      "metadata": {
        "id": "LdpZQXknFNY3"
      },
      "source": [
        "## Finetune GPT-2\n",
        "\n",
        "The next cell will start the actual finetuning of GPT-2. It creates a persistent TensorFlow session which stores the training config, then runs the training for the specified number of `steps`. (to have the finetuning run indefinitely, set `steps = -1`)\n",
        "\n",
        "The model checkpoints will be saved in `/checkpoint/run1` by default. The checkpoints are saved every 500 steps (can be changed) and when the cell is stopped.\n",
        "\n",
        "The training might time out after 4ish hours; make sure you end training and save the results so you don't lose them!\n",
        "\n",
        "**IMPORTANT NOTE:** If you want to rerun this cell, **restart the VM first** (Runtime -> Restart Runtime). You will need to rerun imports but not recopy files.\n",
        "\n",
        "Other optional-but-helpful parameters for `gpt2.finetune`:\n",
        "\n",
        "\n",
        "*  **`restore_from`**: Set to `fresh` to start training from the base GPT-2, or set to `latest` to restart training from an existing checkpoint.\n",
        "* **`sample_every`**: Number of steps to print example output\n",
        "* **`print_every`**: Number of steps to print training progress.\n",
        "* **`learning_rate`**:  Learning rate for the training. (default `1e-4`, can lower to `1e-5` if you have <1MB input data)\n",
        "*  **`run_name`**: subfolder within `checkpoint` to save the model. This is useful if you want to work with multiple models (will also need to specify  `run_name` when loading the model)\n",
        "* **`overwrite`**: Set to `True` if you want to continue finetuning an existing model (w/ `restore_from='latest'`) without creating duplicate copies. "
      ]
    },
    {
      "cell_type": "code",
      "metadata": {
        "id": "aeXshJM-Cuaf",
        "outputId": "5172ce88-3ad6-42c5-94e9-186440af5a03",
        "colab": {
          "base_uri": "https://localhost:8080/"
        }
      },
      "source": [
        "sess = gpt2.start_tf_sess()\n",
        "\n",
        "gpt2.finetune(sess,\n",
        "              dataset=file_name,\n",
        "              model_name='124M',\n",
        "              steps=1000,\n",
        "              restore_from='fresh',\n",
        "              run_name='run1',\n",
        "              print_every=10,\n",
        "              sample_every=200,\n",
        "              save_every=500\n",
        "              )"
      ],
      "execution_count": null,
      "outputs": [
        {
          "output_type": "stream",
          "text": [
            "WARNING:tensorflow:From /usr/local/lib/python3.6/dist-packages/gpt_2_simple/src/sample.py:17: where (from tensorflow.python.ops.array_ops) is deprecated and will be removed in a future version.\n",
            "Instructions for updating:\n",
            "Use tf.where in 2.0, which has the same broadcast rule as np.where\n",
            "Loading checkpoint models/124M/model.ckpt\n",
            "INFO:tensorflow:Restoring parameters from models/124M/model.ckpt\n"
          ],
          "name": "stdout"
        },
        {
          "output_type": "stream",
          "text": [
            "100%|██████████| 1/1 [00:00<00:00, 62.48it/s]"
          ],
          "name": "stderr"
        },
        {
          "output_type": "stream",
          "text": [
            "Loading dataset...\n"
          ],
          "name": "stdout"
        },
        {
          "output_type": "stream",
          "text": [
            "\n"
          ],
          "name": "stderr"
        },
        {
          "output_type": "stream",
          "text": [
            "dataset has 136575 tokens\n",
            "Training...\n",
            "[10 | 29.16] loss=3.26 avg=3.26\n",
            "[20 | 51.66] loss=3.02 avg=3.14\n",
            "[30 | 74.94] loss=3.08 avg=3.12\n",
            "[40 | 99.23] loss=2.73 avg=3.02\n",
            "[50 | 122.65] loss=2.97 avg=3.01\n",
            "[60 | 145.91] loss=2.74 avg=2.96\n",
            "[70 | 169.61] loss=2.75 avg=2.93\n",
            "[80 | 193.34] loss=2.58 avg=2.89\n",
            "[90 | 216.86] loss=2.42 avg=2.83\n",
            "[100 | 240.45] loss=2.60 avg=2.81\n",
            "[110 | 264.16] loss=2.10 avg=2.74\n",
            "[120 | 287.87] loss=2.23 avg=2.70\n",
            "[130 | 311.57] loss=2.15 avg=2.65\n",
            "[140 | 335.18] loss=2.29 avg=2.62\n",
            "[150 | 358.76] loss=1.88 avg=2.57\n",
            "[160 | 382.29] loss=2.02 avg=2.53\n",
            "[170 | 405.88] loss=1.39 avg=2.46\n",
            "[180 | 429.52] loss=1.41 avg=2.40\n",
            "[190 | 453.21] loss=1.58 avg=2.35\n",
            "[200 | 476.91] loss=1.24 avg=2.29\n",
            "======== SAMPLE 1 ========\n",
            " sentence for being \"taught\"... That is, if I paid for it via an app. And if I paid via a website without my knowledge... THAT is just icing on the cake. As for Netflix's Terms of Use, they're really crap. I'll end this review right here, so I can at least get an explanation of what a \"Website without my knowledge\" means.  I don't believe they actually need another article about it... I'm sure they can hire someone to write a formal \"Terms of Use\" that will properly cover Netflix's services.<|endoftext|>\n",
            "<|startoftext|>Netflix charged me 4.99 per month for a trial and they claimed I didn't sign up for the full 4 pluse plurses trial LOL<|endoftext|>\n",
            "<|startoftext|>I'm so sick of paying twp to watch tv.  Why they still take my payment, why I cannot get streaming services without.  But why this? Netflix is robbing me of what I pay for and their prices skyrockets.  Please stop it.  And I don't mean in a good way.<|endoftext|>\n",
            "<|startoftext|>Just found out that my account had been used by someone who used my email and login information. Just got my details for trial and they only have one week to refund me. Really sick to deal with.<|endoftext|>\n",
            "<|startoftext|>I have a Samsung 5s. Netflix charges my account over a 15 month period without my permission, and I say \"yes\" even though it does not seem possible. After they said never, they refused to refund all charges even though they claim the service was used in the first place. They are ripping me off 👌🏈🏼<|endoftext|>\n",
            "<|startoftext|>Netflix have a very extensive library of films and tv shows. Recently they decided to remove all the movies and instead replaced them with foreign films or comedhires add your own captions<|endoftext|>When I first discovered Netflix, I thought it was great.  But, recently, they suddenly stopped supporting the popular movies/shows/ films that used to be available I suppose?  Also, how come they keep recommending me newer movies, not that they ever did.  Most of the good stuff is on Netflix.  Why do the rest of Netflix's that I like have now ceased to be available?  Or, why is Netflix now only showing movies with subtitles?  Maybe it's the Internet, but I think I'm getting fat of Netflix.  How does this happen? I thought it was pretty horrible.  And I realize I'm getting way, way fat of Netflix.  Why do you think that's the case?  I have to thank God for being smart to use smart to look for good stuff.  Now we all have to rely on Smart to See What We Trust.  Now we can binge watch movies from Amazon.<|endoftext|>\n",
            "<|startoftext|>Great if you like binge watching (even without subtitles) but terrible if you are going to stream movies only with your own voice.It's such a shame Netflix ended their exclusivity period and won't be renewing. Can't complain too much.<|endoftext|>\n",
            "<|startoftext|>For the love of god.Horrible TV. Very few movies. Very little programming. I really need a Netflix sub. I would give them 10/ONE star instead of LIke-Juan and Roswell Jim.Gary.Dixon.<|endoftext|>\n",
            "<|startoftext|>It's quite literally the only streaming service in Africa, and it doesn't take long before you cancel that service fairly quickly. Recently there have been several attempts at cheating by blocking you from accessing the net even though you've registered it. Netflix now recommends that you try a different service (like Sky) after you cancel. I guess there's more to this than just a block order system.<|endoftext|>\n",
            "<|startoftext|>I have been with them for over 10 years. The customer service has been incompetent and at their level unhelpful.  Their online chat often became a mess and they didn't have the ability to resolve any issues effectively. I was terminated due to: 1) Service not providing the requested package during the previous 30 days 2) No charge back date (which they implied was a month ago); 3) I was terminated for: 2) Request that they remove my card from the system; and 4) I was then given a one month free trial which they implied was a year ago.  They were obviously not aware that they could terminate a customer for no reason. Seriously? How is this ever considered a free trial?! How can these people expect a customer service response even when they actually have customers for over 2 years?<|\n",
            "\n",
            "[210 | 511.97] loss=1.34 avg=2.24\n",
            "[220 | 535.64] loss=1.06 avg=2.18\n",
            "[230 | 559.34] loss=0.86 avg=2.12\n",
            "[240 | 583.05] loss=1.08 avg=2.07\n",
            "[250 | 606.77] loss=1.02 avg=2.02\n",
            "[260 | 630.50] loss=0.75 avg=1.96\n",
            "[270 | 654.26] loss=0.85 avg=1.92\n",
            "[280 | 678.00] loss=0.90 avg=1.88\n",
            "[290 | 701.69] loss=0.79 avg=1.83\n",
            "[300 | 725.33] loss=0.67 avg=1.79\n",
            "[310 | 748.95] loss=0.51 avg=1.74\n",
            "[320 | 772.53] loss=0.46 avg=1.69\n",
            "[330 | 796.12] loss=0.41 avg=1.65\n",
            "[340 | 819.76] loss=0.48 avg=1.61\n",
            "[350 | 843.40] loss=0.47 avg=1.57\n",
            "[360 | 867.05] loss=0.31 avg=1.53\n",
            "[370 | 890.75] loss=0.27 avg=1.49\n",
            "[380 | 914.45] loss=0.33 avg=1.45\n",
            "[390 | 938.16] loss=0.38 avg=1.42\n",
            "[400 | 961.85] loss=0.25 avg=1.38\n",
            "======== SAMPLE 1 ========\n",
            "||startoftext|>The films are ok however i love ug what u money”s thats make up its fair Amount of content is good though<|endoftext|>\n",
            "<|startoftext|>Have not had an issue with the service yet the customer relationships are bad. As for the customer service, I have never had an issue with the service. However, as I've already seen countless times, the guy who is assistant to speak is not friendly. He spoke in a very cryptic manner to me after I had finished signing up, and I asked what was going on. He said he was trying to sort out a problem with my account, that I was not aware that someone else was aware that I was using their account. I explained that I was unaware that someone else was using my account, and he continued to say it wasn't a problem at all. He continued to say I had to sign out and that I could go through it. I asked him what he meant by that and he said he meant I could go through it. i. DEPICT me. his tone of voice became even more accusatory. I asked what he meant if I meant that if I wanted to watch a movie that person else has made through a different website I should at least sign out and that I should at this point be concerned that someone else is using my account? He continued to say I had to ask for a refund. and that I needed to contact the bank. i. LEAVE. I asked to speak to a supervisor and was told that I couldn’t and there was no such thing. I had been warned that if I refused I would be referred to a manager. I was refused again and this time I was told that they had to stay away from the store I was in. A store they don’t want to lose customers, they want the customer to click the 'back button' and return to their app. A company this size doesn’t understand the customer and their primary concern is losing customers. I have canceled my account and returned to my partner to cancel my debit card. All I was asked to do was return my device to the shipping address I had it shipped to and they would only refund the shipping address. I just finished paying for another device and this time I was asked to cancel my account as I didn’t know what to say. I don’t blame them. I don’t ever. I am ready to try another device and pay for by this time next month I will just buy another device. They are thieves.. I pay for nothing but good things. Not stealing. Not making money out of nothing.. just making money. You can laugh, you can regret, you can be bitter, you can even be very positive when you are not at all positive. There are so many great things out there that are not stealing and that is a shame. Hopefully I did not caught you all, and I will share my experiences and suggestions for people who not only are not working but are instead living on a trust fund go fund something great.<|endoftext|>\n",
            "<|startoftext|>Started getting an error message telling me to turn off my VPN.  I don't have a VPN. Did nothing. Then they told me to contact my bank. I didn't even have 30 minutes. I could have contacted my bank earlier, but I didn't want to have to wait.  I waited until after Christmas, when my bank had closed.  I couldn't have waited. I want to cancel all Netflix services.  And I canceled all my subscriptions to other Netflixs. OK, maybe Netflix needs some polish.  My biggest complaint is the voice mail and notifications on my devices are so poor.  Absolute utter crap. They say the hands-down best user experience (Comfortable, Supportive, Every Single One of the Netflix Classes), but don't you think they would do better to create a world class experience and pass that on to the next generation of Netflix Staff & Creators, or would you say the time has come to give the thumbs down?I don't know. Maybe we must try this for next season?<|endoftext|>\n",
            "<|startoftext|>Very poor service and audiobook services.does not deliver and can cause trouble when looking for the particular service.For example, a concert promoter can raise a fine of up to 3,000 won without my written consent.I still don't have that power and can't expect anyone to give anyone over 3,000 won without my consent. And even if I wanted to, the promoter wouldn't let me “give” the promoter my consent.You are totally fake News.Russia.Today.Entertainment, dvd.demand.flix.1.TotalFake.Denounce.You.TotalFakeNews.Ru.What can I say?I don't know what else I want to watch. Delete\n",
            "\n",
            "[410 | 996.21] loss=0.27 avg=1.35\n",
            "[420 | 1019.91] loss=0.24 avg=1.32\n",
            "[430 | 1043.62] loss=0.23 avg=1.29\n",
            "[440 | 1067.33] loss=0.23 avg=1.26\n",
            "[450 | 1091.04] loss=0.10 avg=1.23\n",
            "[460 | 1114.71] loss=0.19 avg=1.20\n",
            "[470 | 1138.39] loss=0.15 avg=1.17\n",
            "[480 | 1161.97] loss=0.19 avg=1.14\n",
            "[490 | 1185.58] loss=0.13 avg=1.12\n",
            "[500 | 1209.27] loss=0.10 avg=1.09\n",
            "Saving checkpoint/run1/model-500\n",
            "[510 | 1235.64] loss=0.11 avg=1.07\n",
            "[520 | 1259.46] loss=0.12 avg=1.04\n",
            "[530 | 1283.07] loss=0.10 avg=1.02\n",
            "[540 | 1306.68] loss=0.15 avg=1.00\n",
            "[550 | 1330.19] loss=0.13 avg=0.98\n",
            "[560 | 1353.89] loss=0.08 avg=0.96\n",
            "[570 | 1377.87] loss=0.09 avg=0.94\n",
            "[580 | 1401.51] loss=0.08 avg=0.92\n",
            "[590 | 1425.05] loss=0.10 avg=0.90\n",
            "[600 | 1448.75] loss=0.08 avg=0.88\n",
            "======== SAMPLE 1 ========\n",
            ". That it is necessary in order to take place with such an air of elitist servitude to all. Such a turn of events, you may be sure you are ruffians to the cause of social change. Yet you will not be held responsible for the poor service you provide, or the long waits you will receive for your money. You have justpledge me to pay you. If we cannot work together, we will leave the EU.<|endoftext|>\n",
            "<|startoftext|>I had troubles viewing .docx , docx iso because Netflix charged my card before 9:00am , however i managed to get rid of the card through today (approx).My account was hacked and lost 100 dollars. When i contacted Netflix they said they will never do or refund an account that has been hacked and lost.... Even when refund was sent out i was told I should at least try Amazon Prime instead... which i did....Ouch!<|endoftext|>\n",
            "<|startoftext|>Had an issue with my Netflix profile they sent me a email saying My Account had been lost, When i called them said they could’t help :(I wonder why? What are their costs under the Fair Representation Act ...<|endoftext|>\n",
            "<|startoftext|>Website promised new feature and failed to deliver, then suddenly offers new features<|endoftext|>\n",
            "<|startoftext|>Nice website and a great customer service. Unfortunately I didn’t get the latest movies from the library, that was an issue with my card. After trying several times to get to the latest movie from the library, that was not possible. My partner had an email copy machine that worked but it was very frustrating when trying to change the description of a movie. You​endoftext|\n",
            "<|startoftext|>Love Netflix there is so much content to watch. I enjoy getting my hands on some good movies while enjoying the 24 hours free trial. The one time I was frustrated was when casting a movie in Latin America. The description said the black comedy \"Cuz of it\" was foreign to me. Result of a year of painful research and trial and error. Error. trial and error. I had hoped that at least some of the popular films I was to watch would be English speaking by accident. Instead, everything was filled with scripted movies and low grade shows. Very disappointed with the customer service and told to call a manager.<|endoftext|>\n",
            "<|startoftext|>They provide a good service (but not everything). for example, Channel 4 cut the ties with their licensing politics and gave Netflix every possible right with the semicolon.However, I do wish that we had seen the Brexit debate more thoroughly, in which fans could ask for their views on the terms of the single market and how that would affect customer service. If Netflix really wants to ensure 100% customer service, it must provide it's customers with the most up to date information.If they do not want their customers doing the walking walking, then I don't think they deserve a service like this. They need to rethink their customer service and their customer service is far better than this. As for the remaining charge...I do not think they want to produce new series or tell customers what to do instead they choose to raise the price and more misleading people.I do not think they consider this charge a good measure and if they did, they would implement a price cut.As for the remaining charge...I do not think I have a problem with this level of misleading advertising and I for one don't think I will support a price cut.  Forcing customers to wait for months for the free upgrade seems unfair and against the grain.  Don't expect customers to use netflix much, care about their bills<|endoftext|>\n",
            "<|startoftext|>As I have long wondered whether the apparently higher monthly cost of their streaming service, Comcast, has been driven by customer preferences rather than content priorities, I have taken to Nexflix to watch movie \"Comcast Dark \". The list contains over a hundred movies and TV shows that have been on Netflix since October of last year and I'm not able to access them on my Chromebooks.  I know this is a popular program and I've had no problems with it accessing content on my devices.<|endoftext|>\n",
            "<|startoftext|>However, I'm a big fan of Netflix content and love the occasional series update but the truly exceptional shows, the Netflix series are consistently lacking is in quality.For instance, the Netflix series \"Cursed Crown Part 1\" has an absolutely dreadful soundscape of soundbites as the the main bad guy voices, his voice volume gets ultra low and the dialogue is atrocious, we are talking minutes of unintelligible dialogue that I was unable to understand as a human being. The series' main character, Uhtred\n",
            "\n",
            "[610 | 1482.67] loss=0.09 avg=0.87\n",
            "[620 | 1506.24] loss=0.08 avg=0.85\n",
            "[630 | 1529.93] loss=0.05 avg=0.83\n",
            "[640 | 1553.70] loss=0.07 avg=0.82\n",
            "[650 | 1577.44] loss=0.07 avg=0.80\n",
            "[660 | 1601.20] loss=0.06 avg=0.79\n",
            "[670 | 1624.94] loss=0.07 avg=0.77\n",
            "[680 | 1648.67] loss=0.07 avg=0.76\n",
            "[690 | 1672.35] loss=0.06 avg=0.74\n",
            "[700 | 1696.01] loss=0.08 avg=0.73\n",
            "[710 | 1719.66] loss=0.05 avg=0.72\n",
            "[720 | 1743.28] loss=0.08 avg=0.70\n",
            "[730 | 1766.93] loss=0.11 avg=0.69\n",
            "[740 | 1790.59] loss=0.08 avg=0.68\n",
            "[750 | 1814.26] loss=0.06 avg=0.67\n",
            "[760 | 1837.94] loss=0.05 avg=0.66\n",
            "[770 | 1861.63] loss=0.07 avg=0.65\n",
            "[780 | 1885.33] loss=0.09 avg=0.64\n",
            "[790 | 1909.05] loss=0.07 avg=0.63\n",
            "[800 | 1932.74] loss=0.10 avg=0.62\n",
            "======== SAMPLE 1 ========\n",
            " on the TV. It has low quality tones that look like they have been altered and removed forums. It kept sending me notices not confirming my account have been hacked but leaving me wondering why. I have never hacked anyone on the netflix already so this is always a concern. Netflix just seems bent on milking as much money as they can from you.<|endoftext|>\n",
            "<|startoftext|>Great quality, customer service is amazing. i call then and there 3 times a week we need to turn off the TV and watch from the comfort of our own home.the best quality possible.<|endoftext|>\n",
            "<|startoftext|>I don't understand all the reviews. There is nothing on there for me to watch. I get so irritated with how irritating Netflix is that I nearly cancel my account. All i want is to watch more movies and series. I know Netflix is not perfect but they are a good company.<|endoftext|>\n",
            "<|startoftext|>Horrible for watching animes!!!! Love animes but not in anime form! Just get new movies and show every week and I will be canceling!<|endoftext|>\n",
            "<|startoftext|>Netflix is not nice. Too many foreign movies,traitors,fantastiques,boring... it is a very lonely internet platform. waiting for someone to like me or pay me<|endoftext|>\n",
            "<|startoftext|>Happy to say I have been using for over a year, thousands of movies,some good. I have watched many that are available in free-to-view in many countries. I haven't had a problem with download protection as you think about it. I have seen that your right to choose is respected by users and developers. I have also tried to watch movies obtained from us companies. All I want is to have the option to download a movie.<|endoftext|>\n",
            "<|startoftext|>This is far from good enough. Why are foreign movies (films that were made in the past, rarely used) treated so badly!  I dont want to pay for movies that was made hundreds of years ago. Why would I ever would again.<|endoftext|>\n",
            "<|startoftext|>Great file neutrality, I rely on it for all day, surfing good quality streams, always enjoy watching movies.<|endoftext|>\n",
            "<|startoftext|>filthy bad idea netflix ,i send them a review that says \"filthy good idea\", why would i give it 5 stars !!!<|endoftext|>\n",
            "<|startoftext|>filthy bad idea, I pay for this every month<|endoftext|>\n",
            "<|startoftext|>This is a bad company. I will never use Netflix again. What sort of society is this anymore when we have so much political opinion and most people automatically assume we are still \"enjoying\" a video game or TV series?Netflix is an absolute joke, a step behind in age and taste. No doubt more people will resort to this company when they can afford it.<|endoftext|>\n",
            "<|startoftext|>This is a bad idea. All movies, shows, IGP and more, will be available on Netflix without any restrictions. Just a few months ago, there was no App yet, what a contrast!. Now, there are Dozens of them! Would be great to see percentage of movies/series on Netflix by the way, not percentage, as synapse movie studios also allow. It is unfair to exclude artists who are not included in this comparison, as IGLY disloyalty to Netflix will reap the consequences.<|endoftext|>\n",
            "<|startoftext|>I have a Samsung q70 tv from 2020.  Gig speed from Verizon.  High for playback settings.Poor streaming quality every time I watch regardless of the hour of the day.  Netflix is cuss stained, cloud doesn't cover and they keep taking more and more pictures.  I have cheeky ppl pull up pics of their day to show all the life they have of taking, nvm the picture size is literally ridiculous.  Enough is enough.   winter is upon us.<|endoftext|>\n",
            "<|startoftext|>The only thing they dont like about you is making mistakes. I used to be a big fan of their shows (back when they were first released). But with the release of \"The Crown\", Baby Boomer movies are now the most popular entertainment that comes out of my husband's basement. Seriously?! With all the garbage movies and shows that were popular just a few years ago. Screw them. Screw them now. They are basically taking movies and shows that were made just now and then. They take some of the great movies and shows and makes some cool new stuff. Screw\n",
            "\n",
            "[810 | 1966.65] loss=0.07 avg=0.61\n",
            "[820 | 1990.34] loss=0.09 avg=0.60\n",
            "[830 | 2014.03] loss=0.06 avg=0.59\n",
            "[840 | 2037.74] loss=0.05 avg=0.58\n",
            "[850 | 2061.44] loss=0.06 avg=0.57\n",
            "[860 | 2085.16] loss=0.06 avg=0.56\n",
            "[870 | 2108.86] loss=0.05 avg=0.55\n",
            "[880 | 2132.59] loss=0.08 avg=0.54\n",
            "[890 | 2156.31] loss=0.06 avg=0.54\n",
            "[900 | 2180.01] loss=0.08 avg=0.53\n",
            "[910 | 2203.63] loss=0.04 avg=0.52\n",
            "[920 | 2227.26] loss=0.04 avg=0.51\n",
            "[930 | 2250.88] loss=0.07 avg=0.50\n",
            "[940 | 2274.52] loss=0.06 avg=0.50\n",
            "[950 | 2298.20] loss=0.05 avg=0.49\n",
            "[960 | 2321.89] loss=0.04 avg=0.48\n",
            "[970 | 2345.59] loss=0.06 avg=0.48\n",
            "[980 | 2369.30] loss=0.05 avg=0.47\n",
            "[990 | 2392.99] loss=0.07 avg=0.46\n",
            "[1000 | 2416.70] loss=0.05 avg=0.46\n",
            "Saving checkpoint/run1/model-1000\n",
            "WARNING:tensorflow:From /tensorflow-1.15.2/python3.6/tensorflow_core/python/training/saver.py:963: remove_checkpoint (from tensorflow.python.training.checkpoint_management) is deprecated and will be removed in a future version.\n",
            "Instructions for updating:\n",
            "Use standard file APIs to delete files with this prefix.\n"
          ],
          "name": "stdout"
        }
      ]
    },
    {
      "cell_type": "markdown",
      "metadata": {
        "id": "IXSuTNERaw6K"
      },
      "source": [
        "After the model is trained, you can copy the checkpoint folder to your own Google Drive.\n",
        "\n",
        "If you want to download it to your personal computer, it's strongly recommended you copy it there first, then download from Google Drive. The checkpoint folder is copied as a `.rar` compressed file; you can download it and uncompress it locally."
      ]
    },
    {
      "cell_type": "code",
      "metadata": {
        "id": "VHdTL8NDbAh3"
      },
      "source": [
        "gpt2.copy_checkpoint_to_gdrive(run_name='run1')"
      ],
      "execution_count": null,
      "outputs": []
    },
    {
      "cell_type": "markdown",
      "metadata": {
        "id": "qQJgV_b4bmzd"
      },
      "source": [
        "You're done! Feel free to go to the **Generate Text From The Trained Model** section to generate text based on your retrained model."
      ]
    },
    {
      "cell_type": "markdown",
      "metadata": {
        "id": "pel-uBULXO2L"
      },
      "source": [
        "## Load a Trained Model Checkpoint\n",
        "\n",
        "Running the next cell will copy the `.rar` checkpoint file from your Google Drive into the Colaboratory VM."
      ]
    },
    {
      "cell_type": "code",
      "metadata": {
        "id": "DCcx5u7sbPTD"
      },
      "source": [
        "gpt2.copy_checkpoint_from_gdrive(run_name='run1')"
      ],
      "execution_count": null,
      "outputs": []
    },
    {
      "cell_type": "markdown",
      "metadata": {
        "id": "RTa6zf3e_9gV"
      },
      "source": [
        "The next cell will allow you to load the retrained model checkpoint + metadata necessary to generate text.\n",
        "\n",
        "**IMPORTANT NOTE:** If you want to rerun this cell, **restart the VM first** (Runtime -> Restart Runtime). You will need to rerun imports but not recopy files."
      ]
    },
    {
      "cell_type": "code",
      "metadata": {
        "id": "-fxL77nvAMAX"
      },
      "source": [
        "sess = gpt2.start_tf_sess()\n",
        "gpt2.load_gpt2(sess, run_name='run1')"
      ],
      "execution_count": null,
      "outputs": []
    },
    {
      "cell_type": "markdown",
      "metadata": {
        "id": "ClJwpF_ACONp"
      },
      "source": [
        "## Generate Text From The Trained Model\n",
        "\n",
        "After you've trained the model or loaded a retrained model from checkpoint, you can now generate text. `generate` generates a single text from the loaded model."
      ]
    },
    {
      "cell_type": "markdown",
      "metadata": {
        "id": "oF4-PqF0Fl7R"
      },
      "source": [
        "If you're creating an API based on your model and need to pass the generated text elsewhere, you can do `text = gpt2.generate(sess, return_as_list=True)[0]`\n",
        "\n",
        "You can also pass in a `prefix` to the generate function to force the text to start with a given character sequence and generate text from there (good if you add an indicator when the text starts).\n",
        "\n",
        "You can also generate multiple texts at a time by specifing `nsamples`. Unique to GPT-2, you can pass a `batch_size` to generate multiple samples in parallel, giving a massive speedup (in Colaboratory, set a maximum of 20 for `batch_size`).\n",
        "\n",
        "Other optional-but-helpful parameters for `gpt2.generate` and friends:\n",
        "\n",
        "*  **`length`**: Number of tokens to generate (default 1023, the maximum)\n",
        "* **`temperature`**: The higher the temperature, the crazier the text (default 0.7, recommended to keep between 0.7 and 1.0)\n",
        "* **`top_k`**: Limits the generated guesses to the top *k* guesses (default 0 which disables the behavior; if the generated output is super crazy, you may want to set `top_k=40`)\n",
        "* **`top_p`**: Nucleus sampling: limits the generated guesses to a cumulative probability. (gets good results on a dataset with `top_p=0.9`)\n",
        "* **`truncate`**: Truncates the input text until a given sequence, excluding that sequence (e.g. if `truncate='<|endoftext|>'`, the returned text will include everything before the first `<|endoftext|>`). It may be useful to combine this with a smaller `length` if the input texts are short.\n",
        "*  **`include_prefix`**: If using `truncate` and `include_prefix=False`, the specified `prefix` will not be included in the returned text."
      ]
    },
    {
      "cell_type": "code",
      "metadata": {
        "id": "8DKMc0fiej4N",
        "outputId": "23cf30cf-9884-452c-8652-07ee152ba67d",
        "colab": {
          "base_uri": "https://localhost:8080/",
          "height": 205
        }
      },
      "source": [
        "gpt2.generate(sess,\n",
        "              length=250,\n",
        "              temperature=0.7,\n",
        "              prefix=\"<|startoftext|>I love Netflix.\",\n",
        "              nsamples=5,\n",
        "              batch_size=5,\n",
        "              truncate='<|endoftext|>'\n",
        "              )"
      ],
      "execution_count": null,
      "outputs": [
        {
          "output_type": "stream",
          "text": [
            "<|startoftext|>I love Netflix. I'm a big fan and they're really good. I'm really addicted to it. I'm always looking for new material and if I can't find it I search for something else. I don't have a huge library at home, but I do have plenty of material for Netflix. The only thing I don't like is how Netflix makes recommendations for you, instead of just giving you the link to the stuff you found and if it's not there just sort it by yourself. That's pretty poor and takes away from the variety you get from these sites. I still love it and definitely recommend it.\n",
            "====================\n",
            "<|startoftext|>I love Netflix.  I love netflix originals.  I’ve watched war and vampires and Noah and the floodgates and Sons of Anarchy and Sons of chaos and Sons of chaos and i am so addicted to the netflix originals.  I just binge watch everything i can get my hands on.  I love that I can watch everything in high quality.  I think Netflix is the best streaming service out there.  I’ve had a rough go of it so far but Netflix really makes all the difference.\n",
            "====================\n",
            "<|startoftext|>I love Netflix. But I just cancelled my account because of all the lies, censorship, and unwanted sexualization of children on this site. I'm so disappointed.\n",
            "====================\n",
            "<|startoftext|>I love Netflix. But I just cancelled my subscription. Goodbye, Netflix.\n",
            "====================\n",
            "<|startoftext|>I love Netflix. But I just cancelled my account... Because they Tried to Charge my Card for a new Card that I Didn't Use! They even Tried to Charge my Card for a Free Gift Card with a $25 Gift Card when I clearly didn't need it! It's ridiculous trying to use the Free Gift Card to shop for gift cards. They even Tried to Charge my Card for a Gift Card that I clearly didn't need with a $25 Gift Card that I clearly didn't get... Oh and I'm also having trouble with my email... It's an 'error' and not helpful. Totally unwatchable. Cancel your Account Today and Save Money!\n",
            "====================\n"
          ],
          "name": "stdout"
        }
      ]
    },
    {
      "cell_type": "markdown",
      "metadata": {
        "id": "wmTXWNUygS5E"
      },
      "source": [
        "# LICENSE\n",
        "\n",
        "MIT License\n",
        "\n",
        "Copyright (c) 2019 Max Woolf\n",
        "\n",
        "Permission is hereby granted, free of charge, to any person obtaining a copy\n",
        "of this software and associated documentation files (the \"Software\"), to deal\n",
        "in the Software without restriction, including without limitation the rights\n",
        "to use, copy, modify, merge, publish, distribute, sublicense, and/or sell\n",
        "copies of the Software, and to permit persons to whom the Software is\n",
        "furnished to do so, subject to the following conditions:\n",
        "\n",
        "The above copyright notice and this permission notice shall be included in all\n",
        "copies or substantial portions of the Software.\n",
        "\n",
        "THE SOFTWARE IS PROVIDED \"AS IS\", WITHOUT WARRANTY OF ANY KIND, EXPRESS OR\n",
        "IMPLIED, INCLUDING BUT NOT LIMITED TO THE WARRANTIES OF MERCHANTABILITY,\n",
        "FITNESS FOR A PARTICULAR PURPOSE AND NONINFRINGEMENT. IN NO EVENT SHALL THE\n",
        "AUTHORS OR COPYRIGHT HOLDERS BE LIABLE FOR ANY CLAIM, DAMAGES OR OTHER\n",
        "LIABILITY, WHETHER IN AN ACTION OF CONTRACT, TORT OR OTHERWISE, ARISING FROM,\n",
        "OUT OF OR IN CONNECTION WITH THE SOFTWARE OR THE USE OR OTHER DEALINGS IN THE\n",
        "SOFTWARE."
      ]
    }
  ]
}